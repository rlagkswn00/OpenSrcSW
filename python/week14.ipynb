{
 "cells": [
  {
   "cell_type": "code",
   "execution_count": 17,
   "id": "77d0d4fb",
   "metadata": {},
   "outputs": [
    {
     "name": "stdout",
     "output_type": "stream",
     "text": [
      "        unit price  number\n",
      "store1        1000      25\n",
      "store2         280     120\n",
      "store3         900      34 \n",
      "\n",
      "        unit price  number  total price\n",
      "store1        1000      25        25000\n",
      "store2         280     120        33600\n",
      "store3         900      34        30600 \n",
      "\n",
      "        unit price  number  total price\n",
      "store2         280     120        33600 \n",
      "\n"
     ]
    }
   ],
   "source": [
    "import pandas as pd\n",
    "import numpy as np\n",
    "\n",
    "df = pd.DataFrame([[1000,25],\n",
    "                  [280,120],\n",
    "                  [900,34]],index = ['store1','store2','store3'],columns=['unit price','number'])\n",
    "print(df,\"\\n\")\n",
    "\n",
    "df[\"total price\"] = df[\"unit price\"]*df[\"number\"]\n",
    "print(df,\"\\n\")\n",
    "\n",
    "total_prices = df[\"total price\"].array\n",
    "\n",
    "max = 0\n",
    "for price in total_prices:\n",
    "    if(max<price):\n",
    "        max = price\n",
    "\n",
    "print(df[df[\"total price\"]==max],\"\\n\")"
   ]
  }
 ],
 "metadata": {
  "kernelspec": {
   "display_name": "Python 3 (ipykernel)",
   "language": "python",
   "name": "python3"
  },
  "language_info": {
   "codemirror_mode": {
    "name": "ipython",
    "version": 3
   },
   "file_extension": ".py",
   "mimetype": "text/x-python",
   "name": "python",
   "nbconvert_exporter": "python",
   "pygments_lexer": "ipython3",
   "version": "3.9.12"
  }
 },
 "nbformat": 4,
 "nbformat_minor": 5
}
