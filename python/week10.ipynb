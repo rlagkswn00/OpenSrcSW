{
 "cells": [
  {
   "cell_type": "code",
   "execution_count": 4,
   "id": "6079c0f5",
   "metadata": {},
   "outputs": [
    {
     "name": "stdout",
     "output_type": "stream",
     "text": [
      "죽는 날까지 하늘을 우러러\n",
      "한 점 부끄럼이 없기를,\n",
      "잎새에 이는 바람에도\n",
      "너는 괴로워했다.\n",
      "별을 노래하는 마음으로\n",
      "모든 죽어가는 것을 사랑해야지\n",
      "그리고 너한테 주어진 길을\n",
      "걸어가야겠다.\n",
      "오늘 밤에도 별이 발마에 스치운다.\n"
     ]
    }
   ],
   "source": [
    "str = \"\"\"    죽는 날까지 하늘을 우러러\n",
    "한 점 부끄럼이 없기를,\n",
    "잎새에 이는 바람에도\n",
    "나는 괴로워했다.\n",
    "별을 노래하는 마음으로\n",
    "모든 죽어가는 것을 사랑해야지\n",
    "그리고 나한테 주어진 길을\n",
    "걸어가야겠다.\n",
    "오늘 밤에도 별이 발마에 스치운다.     \"\"\"\n",
    "\n",
    "str = str.strip()\n",
    "str = str.replace(\"나\",\"너\")\n",
    "print(str)"
   ]
  },
  {
   "cell_type": "code",
   "execution_count": 7,
   "id": "5368a1a9",
   "metadata": {},
   "outputs": [
    {
     "name": "stdout",
     "output_type": "stream",
     "text": [
      "Numbers? 10 456 87 78\n",
      "MAX= 456\n"
     ]
    }
   ],
   "source": [
    "num = input(\"Numbers? \")\n",
    "strlist = num.split(\" \")\n",
    "\n",
    "max = int(strlist[0])\n",
    "\n",
    "for st in strlist[1:]:\n",
    "    num = int(st)\n",
    "    if(num > max):\n",
    "        max = num\n",
    "\n",
    "        print(\"MAX=\",max)"
   ]
  },
  {
   "cell_type": "code",
   "execution_count": 15,
   "id": "9ac3c49b",
   "metadata": {},
   "outputs": [
    {
     "name": "stdout",
     "output_type": "stream",
     "text": [
      "\"abc def\" is encoded into \"efg!bcd\"\n",
      "\"efg!bcd\" is encoded into \"abc def\"\n"
     ]
    }
   ],
   "source": [
    "def conv_asc(str,num):\n",
    "    new_str=\"\"\n",
    "    for i in str:\n",
    "        code = ord(i)\n",
    "        new_str += chr(code+num)\n",
    "    return new_str\n",
    "\n",
    "def encode(passwd,key):\n",
    "    list = passwd.split()\n",
    "    list = list[::-1]\n",
    "    new_str=\" \".join(list)\n",
    "    \n",
    "    return conv_asc(new_str,key)\n",
    "\n",
    "def decode(code,key):\n",
    "    str=conv_asc(code,key*-1)\n",
    "    list = str.split()\n",
    "    list = list[::-1]\n",
    "    new_str=\" \".join(list)\n",
    "    return passwd\n",
    "\n",
    "passwd = \"abc def\"\n",
    "code = encode(passwd,1)\n",
    "print(\"\\\"\"+passwd+\"\\\" is encoded into \\\"\"+code+\"\\\"\")\n",
    "\n",
    "decode = decode(code,1)\n",
    "print(\"\\\"\"+code+\"\\\" is encoded into \\\"\"+decode+\"\\\"\")"
   ]
  }
 ],
 "metadata": {
  "kernelspec": {
   "display_name": "Python 3 (ipykernel)",
   "language": "python",
   "name": "python3"
  },
  "language_info": {
   "codemirror_mode": {
    "name": "ipython",
    "version": 3
   },
   "file_extension": ".py",
   "mimetype": "text/x-python",
   "name": "python",
   "nbconvert_exporter": "python",
   "pygments_lexer": "ipython3",
   "version": "3.9.7"
  }
 },
 "nbformat": 4,
 "nbformat_minor": 5
}
