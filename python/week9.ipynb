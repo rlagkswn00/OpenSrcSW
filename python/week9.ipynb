{
 "cells": [
  {
   "cell_type": "markdown",
   "id": "750c74fc",
   "metadata": {},
   "source": [
    "$실습1"
   ]
  },
  {
   "cell_type": "code",
   "execution_count": null,
   "id": "d03f8a48",
   "metadata": {},
   "outputs": [],
   "source": []
  },
  {
   "cell_type": "code",
   "execution_count": 1,
   "id": "68cdba83",
   "metadata": {},
   "outputs": [
    {
     "data": {
      "text/plain": [
       "(7, 36)"
      ]
     },
     "execution_count": 1,
     "metadata": {},
     "output_type": "execute_result"
    }
   ],
   "source": [
    "time = 456\n",
    "hour = time/60\n",
    "min = time%60\n",
    "int(hour),min"
   ]
  },
  {
   "cell_type": "markdown",
   "id": "c3768ef8",
   "metadata": {},
   "source": [
    "$실습2"
   ]
  },
  {
   "cell_type": "code",
   "execution_count": 2,
   "id": "6571d8d2",
   "metadata": {},
   "outputs": [
    {
     "data": {
      "text/plain": [
       "('김철수', 2.8)"
      ]
     },
     "execution_count": 2,
     "metadata": {},
     "output_type": "execute_result"
    }
   ],
   "source": [
    "d = {\"홍길동\":3.4, \"임꺽정\":4.0, \"김철수\":2.8, \"이영희\":3.9}\n",
    "data = d.keys()\n",
    "data_list = list(data)\n",
    "data_list.sort()\n",
    "\n",
    "key = data_list[0]\n",
    "value = d.get(key)\n",
    "key,value"
   ]
  }
 ],
 "metadata": {
  "kernelspec": {
   "display_name": "Python 3.9.7 ('base')",
   "language": "python",
   "name": "python3"
  },
  "language_info": {
   "codemirror_mode": {
    "name": "ipython",
    "version": 3
   },
   "file_extension": ".py",
   "mimetype": "text/x-python",
   "name": "python",
   "nbconvert_exporter": "python",
   "pygments_lexer": "ipython3",
   "version": "3.9.7"
  },
  "vscode": {
   "interpreter": {
    "hash": "694c42ef100746d30e520a21a60c7ea1517a4e58ddf15258330d2e0b03125d5b"
   }
  }
 },
 "nbformat": 4,
 "nbformat_minor": 5
}
