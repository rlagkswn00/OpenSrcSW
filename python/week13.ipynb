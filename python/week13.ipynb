{
 "cells": [
  {
   "cell_type": "markdown",
   "metadata": {
    "pycharm": {
     "name": "#%% md\n"
    }
   },
   "source": [
    "실습1"
   ]
  },
  {
   "cell_type": "code",
   "execution_count": 1,
   "metadata": {
    "pycharm": {
     "name": "#%%\n"
    }
   },
   "outputs": [
    {
     "data": {
      "text/plain": "<Figure size 432x288 with 1 Axes>",
      "image/png": "[encoded data removed]"
     },
     "metadata": {
      "needs_background": "light"
     },
     "output_type": "display_data"
    }
   ],
   "source": [
    "import matplotlib.pyplot as plt\n",
    "import numpy as np\n",
    "\n",
    "x = np.arange(-np.pi,np.pi,np.pi/100)\n",
    "y = np.sin(x)\n",
    "\n",
    "plt.plot(x,y)\n",
    "plt.show()"
   ]
  },
  {
   "cell_type": "markdown",
   "metadata": {
    "pycharm": {
     "name": "#%% md\n"
    }
   },
   "source": [
    "실습2"
   ]
  },
  {
   "cell_type": "code",
   "execution_count": 22,
   "metadata": {
    "pycharm": {
     "name": "#%%\n"
    }
   },
   "outputs": [
    {
     "name": "stdout",
     "output_type": "stream",
     "text": [
      "[array([ 2.,  2., inf, inf, inf, inf]), array([ 3.,  3., inf, inf,  3., inf]), array([ 2.,  2., inf, inf, inf, inf])]\n"
     ]
    },
    {
     "name": "stderr",
     "output_type": "stream",
     "text": [
      "/var/folders/vw/qcxwrv05617ch7m3l74n_lb80000gn/T/ipykernel_1874/3521684792.py:13: RuntimeWarning: divide by zero encountered in true_divide\n",
      "  result.append(np.dot(row,Query)/(abs(row)*abs(Query)))\n"
     ]
    }
   ],
   "source": [
    "import matplotlib.pyplot as plt\n",
    "import numpy as np\n",
    "\n",
    "Docs = np.array([[1,1,0,1,0,1],\n",
    "                 [1,1,1,0,1,0],\n",
    "                 [1,1,0,1,0,0]])\n",
    "\n",
    "Query = np.array([1,1,0,0,1,0])\n",
    "\n",
    "result = []\n",
    "\n",
    "for row in Docs:\n",
    "    result.append(np.dot(row,Query)/(abs(row)*abs(Query)))\n",
    "    \n",
    "print(result)"
   ]
  },
  {
   "cell_type": "code",
   "execution_count": 34,
   "metadata": {
    "pycharm": {
     "name": "#%%\n"
    }
   },
   "outputs": [
    {
     "data": {
      "image/png": "[encoded data removed]",
      "text/plain": [
       "<Figure size 432x288 with 1 Axes>"
      ]
     },
     "metadata": {
      "needs_background": "light"
     },
     "output_type": "display_data"
    }
   ],
   "source": [
    "import numpy as np\n",
    "import matplotlib.pyplot as plt\n",
    "\n",
    "Docs = np.array([[1,1,0,1,0,1],\n",
    "                 [1,1,1,0,1,0],\n",
    "                 [1,1,0,1,0,0]])\n",
    "\n",
    "Query = np.array([1,1,0,0,1,0])\n",
    "\n",
    "q_size = np.sqrt(np.dot(Query,Query.transpose()))\n",
    "sim=[]\n",
    "xdata=[]\n",
    "\n",
    "for i , d in enumerate(Docs[:]): # i는 인덱스, d는 해당 값\n",
    "    d_size = np.sqrt(np.dot(d,d.transpose()))\n",
    "    s=np.dot(d,Query.T)/(d_size*q_size)\n",
    "    sim.append(s)\n",
    "    xdata.append(\"doc{0:d}={1:.2f}\".format(i+1,s))\n",
    "    \n",
    "plt.title(\"Cosine similarities\")\n",
    "plt.bar(xdata,sim)\n",
    "plt.show()"
   ]
  },
  {
   "cell_type": "markdown",
   "metadata": {
    "pycharm": {
     "name": "#%% md\n"
    }
   },
   "source": []
  }
 ],
 "metadata": {
  "kernelspec": {
   "display_name": "Python 3.9.12 64-bit",
   "language": "python",
   "name": "python3"
  },
  "language_info": {
   "codemirror_mode": {
    "name": "ipython",
    "version": 3
   },
   "file_extension": ".py",
   "mimetype": "text/x-python",
   "name": "python",
   "nbconvert_exporter": "python",
   "pygments_lexer": "ipython3",
   "version": "3.9.12"
  },
  "orig_nbformat": 4,
  "vscode": {
   "interpreter": {
    "hash": "b0fa6594d8f4cbf19f97940f81e996739fb7646882a419484c72d19e05852a7e"
   }
  }
 },
 "nbformat": 4,
 "nbformat_minor": 2
}