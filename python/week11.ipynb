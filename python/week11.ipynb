{
 "cells": [
  {
   "cell_type": "markdown",
   "id": "106a127b",
   "metadata": {},
   "source": [
    "#실습1"
   ]
  },
  {
   "cell_type": "code",
   "execution_count": 47,
   "id": "2d1ad91b",
   "metadata": {},
   "outputs": [
    {
     "name": "stdout",
     "output_type": "stream",
     "text": [
      "파이썬 2\n",
      "파일 2\n",
      "읽기 2\n",
      "예제입니다. 2\n",
      "다양한 1\n",
      "메소드를 1\n",
      "공부해 1\n",
      "보세요. 1\n",
      "실력이 1\n",
      "팍팍 1\n",
      "늘 1\n",
      "거예요~ 1\n",
      "단어 1\n",
      "수를 1\n",
      "카운트하는 1\n",
      "실습 1\n"
     ]
    }
   ],
   "source": [
    "f= open('README.txt', 'r',encoding='utf8')\n",
    "\n",
    "res = {}\n",
    "\n",
    "for line in f:\n",
    "    \n",
    "    line = line.strip()\n",
    "    words = line.split()\n",
    "    \n",
    "    for w in words:\n",
    "        if w in res:\n",
    "            res[w] +=1\n",
    "        else:\n",
    "            res[w] = 1\n",
    "            \n",
    "for w in dic:\n",
    "    print(w,dic[w])\n",
    "f.close()"
   ]
  },
  {
   "cell_type": "markdown",
   "id": "76e4222a",
   "metadata": {},
   "source": [
    "#실습2"
   ]
  },
  {
   "cell_type": "code",
   "execution_count": 63,
   "id": "5881fb8b",
   "metadata": {},
   "outputs": [
    {
     "name": "stdout",
     "output_type": "stream",
     "text": [
      "2,1\n",
      "3,4\n",
      "\n",
      "4,3\n",
      "5,6\n"
     ]
    }
   ],
   "source": [
    "class point:\n",
    "    def __init__(self, x = 0, y = 0):\n",
    "        self.x = x\n",
    "        self.y = y\n",
    "        \n",
    "    def move(self,dx,dy):\n",
    "        self.x += dx\n",
    "        self.y += dy\n",
    "    \n",
    "    def show(self):\n",
    "        print(\"{0:d},{1:d}\".format(self.x,self.y))\n",
    "\n",
    "class Box(Point):\n",
    "\n",
    "    def __init__(self, p1 = 0, p2 = 0):\n",
    "        self.p1 = p1\n",
    "        self.p2 = p2\n",
    "        \n",
    "    def move(self,dx,dy):\n",
    "        self.p1.move(dx,dy)\n",
    "        self.p2.move(dx,dy)\n",
    "    \n",
    "    def show(self):\n",
    "        self.p1.show()\n",
    "        self.p2.show()\n",
    "        \n",
    "\n",
    "p1 = point(2,1)\n",
    "p1.show()\n",
    "\n",
    "p2 = point()\n",
    "p2.move(3,4)\n",
    "p2.show()\n",
    "print()\n",
    "\n",
    "b = Box(p1,p2)\n",
    "b.move(2,2)\n",
    "b.show()\n"
   ]
  }
 ],
 "metadata": {
  "kernelspec": {
   "display_name": "Python 3 (ipykernel)",
   "language": "python",
   "name": "python3"
  },
  "language_info": {
   "codemirror_mode": {
    "name": "ipython",
    "version": 3
   },
   "file_extension": ".py",
   "mimetype": "text/x-python",
   "name": "python",
   "nbconvert_exporter": "python",
   "pygments_lexer": "ipython3",
   "version": "3.9.12"
  }
 },
 "nbformat": 4,
 "nbformat_minor": 5
}
