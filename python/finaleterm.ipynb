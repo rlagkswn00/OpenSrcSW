{
 "cells": [
  {
   "cell_type": "code",
   "execution_count": 35,
   "metadata": {
    "collapsed": true,
    "pycharm": {
     "name": "#%%\n"
    }
   },
   "outputs": [
    {
     "name": "stdout",
     "output_type": "stream",
     "text": [
      "백신이 가장 많이 접종된 날\n",
      "2021-06-24\n",
      "백신이 가장 적게 접종된 날\n",
      "2022-03-29\n",
      "\n"
     ]
    },
    {
     "ename": "ValueError",
     "evalue": "could not convert string to float: 'Abdala, Soberana Plus, Soberana02'",
     "output_type": "error",
     "traceback": [
      "\u001B[0;31m---------------------------------------------------------------------------\u001B[0m",
      "\u001B[0;31mValueError\u001B[0m                                Traceback (most recent call last)",
      "Input \u001B[0;32mIn [35]\u001B[0m, in \u001B[0;36m<cell line: 59>\u001B[0;34m()\u001B[0m\n\u001B[1;32m     55\u001B[0m df \u001B[38;5;241m=\u001B[39m pd\u001B[38;5;241m.\u001B[39mDataFrame(array,columns\u001B[38;5;241m=\u001B[39m[\u001B[38;5;124m\"\u001B[39m\u001B[38;5;124m백신 이름\u001B[39m\u001B[38;5;124m\"\u001B[39m,\u001B[38;5;124m\"\u001B[39m\u001B[38;5;124m접종 국가 수\u001B[39m\u001B[38;5;124m\"\u001B[39m])\n\u001B[1;32m     56\u001B[0m df\n\u001B[0;32m---> 59\u001B[0m \u001B[43mplt\u001B[49m\u001B[38;5;241;43m.\u001B[39;49m\u001B[43mpie\u001B[49m\u001B[43m(\u001B[49m\u001B[43marray\u001B[49m\u001B[43m[\u001B[49m\u001B[38;5;241;43m1\u001B[39;49m\u001B[43m]\u001B[49m\u001B[43m)\u001B[49m\n\u001B[1;32m     60\u001B[0m plt\u001B[38;5;241m.\u001B[39mshow()\n",
      "File \u001B[0;32m~/Library/Python/3.9/lib/python/site-packages/matplotlib/pyplot.py:2756\u001B[0m, in \u001B[0;36mpie\u001B[0;34m(x, explode, labels, colors, autopct, pctdistance, shadow, labeldistance, startangle, radius, counterclock, wedgeprops, textprops, center, frame, rotatelabels, normalize, data)\u001B[0m\n\u001B[1;32m   2749\u001B[0m \u001B[38;5;129m@_copy_docstring_and_deprecators\u001B[39m(Axes\u001B[38;5;241m.\u001B[39mpie)\n\u001B[1;32m   2750\u001B[0m \u001B[38;5;28;01mdef\u001B[39;00m \u001B[38;5;21mpie\u001B[39m(\n\u001B[1;32m   2751\u001B[0m         x, explode\u001B[38;5;241m=\u001B[39m\u001B[38;5;28;01mNone\u001B[39;00m, labels\u001B[38;5;241m=\u001B[39m\u001B[38;5;28;01mNone\u001B[39;00m, colors\u001B[38;5;241m=\u001B[39m\u001B[38;5;28;01mNone\u001B[39;00m, autopct\u001B[38;5;241m=\u001B[39m\u001B[38;5;28;01mNone\u001B[39;00m,\n\u001B[0;32m   (...)\u001B[0m\n\u001B[1;32m   2754\u001B[0m         textprops\u001B[38;5;241m=\u001B[39m\u001B[38;5;28;01mNone\u001B[39;00m, center\u001B[38;5;241m=\u001B[39m(\u001B[38;5;241m0\u001B[39m, \u001B[38;5;241m0\u001B[39m), frame\u001B[38;5;241m=\u001B[39m\u001B[38;5;28;01mFalse\u001B[39;00m,\n\u001B[1;32m   2755\u001B[0m         rotatelabels\u001B[38;5;241m=\u001B[39m\u001B[38;5;28;01mFalse\u001B[39;00m, \u001B[38;5;241m*\u001B[39m, normalize\u001B[38;5;241m=\u001B[39m\u001B[38;5;28;01mTrue\u001B[39;00m, data\u001B[38;5;241m=\u001B[39m\u001B[38;5;28;01mNone\u001B[39;00m):\n\u001B[0;32m-> 2756\u001B[0m     \u001B[38;5;28;01mreturn\u001B[39;00m \u001B[43mgca\u001B[49m\u001B[43m(\u001B[49m\u001B[43m)\u001B[49m\u001B[38;5;241;43m.\u001B[39;49m\u001B[43mpie\u001B[49m\u001B[43m(\u001B[49m\n\u001B[1;32m   2757\u001B[0m \u001B[43m        \u001B[49m\u001B[43mx\u001B[49m\u001B[43m,\u001B[49m\u001B[43m \u001B[49m\u001B[43mexplode\u001B[49m\u001B[38;5;241;43m=\u001B[39;49m\u001B[43mexplode\u001B[49m\u001B[43m,\u001B[49m\u001B[43m \u001B[49m\u001B[43mlabels\u001B[49m\u001B[38;5;241;43m=\u001B[39;49m\u001B[43mlabels\u001B[49m\u001B[43m,\u001B[49m\u001B[43m \u001B[49m\u001B[43mcolors\u001B[49m\u001B[38;5;241;43m=\u001B[39;49m\u001B[43mcolors\u001B[49m\u001B[43m,\u001B[49m\n\u001B[1;32m   2758\u001B[0m \u001B[43m        \u001B[49m\u001B[43mautopct\u001B[49m\u001B[38;5;241;43m=\u001B[39;49m\u001B[43mautopct\u001B[49m\u001B[43m,\u001B[49m\u001B[43m \u001B[49m\u001B[43mpctdistance\u001B[49m\u001B[38;5;241;43m=\u001B[39;49m\u001B[43mpctdistance\u001B[49m\u001B[43m,\u001B[49m\u001B[43m \u001B[49m\u001B[43mshadow\u001B[49m\u001B[38;5;241;43m=\u001B[39;49m\u001B[43mshadow\u001B[49m\u001B[43m,\u001B[49m\n\u001B[1;32m   2759\u001B[0m \u001B[43m        \u001B[49m\u001B[43mlabeldistance\u001B[49m\u001B[38;5;241;43m=\u001B[39;49m\u001B[43mlabeldistance\u001B[49m\u001B[43m,\u001B[49m\u001B[43m \u001B[49m\u001B[43mstartangle\u001B[49m\u001B[38;5;241;43m=\u001B[39;49m\u001B[43mstartangle\u001B[49m\u001B[43m,\u001B[49m\n\u001B[1;32m   2760\u001B[0m \u001B[43m        \u001B[49m\u001B[43mradius\u001B[49m\u001B[38;5;241;43m=\u001B[39;49m\u001B[43mradius\u001B[49m\u001B[43m,\u001B[49m\u001B[43m \u001B[49m\u001B[43mcounterclock\u001B[49m\u001B[38;5;241;43m=\u001B[39;49m\u001B[43mcounterclock\u001B[49m\u001B[43m,\u001B[49m\n\u001B[1;32m   2761\u001B[0m \u001B[43m        \u001B[49m\u001B[43mwedgeprops\u001B[49m\u001B[38;5;241;43m=\u001B[39;49m\u001B[43mwedgeprops\u001B[49m\u001B[43m,\u001B[49m\u001B[43m \u001B[49m\u001B[43mtextprops\u001B[49m\u001B[38;5;241;43m=\u001B[39;49m\u001B[43mtextprops\u001B[49m\u001B[43m,\u001B[49m\u001B[43m \u001B[49m\u001B[43mcenter\u001B[49m\u001B[38;5;241;43m=\u001B[39;49m\u001B[43mcenter\u001B[49m\u001B[43m,\u001B[49m\n\u001B[1;32m   2762\u001B[0m \u001B[43m        \u001B[49m\u001B[43mframe\u001B[49m\u001B[38;5;241;43m=\u001B[39;49m\u001B[43mframe\u001B[49m\u001B[43m,\u001B[49m\u001B[43m \u001B[49m\u001B[43mrotatelabels\u001B[49m\u001B[38;5;241;43m=\u001B[39;49m\u001B[43mrotatelabels\u001B[49m\u001B[43m,\u001B[49m\u001B[43m \u001B[49m\u001B[43mnormalize\u001B[49m\u001B[38;5;241;43m=\u001B[39;49m\u001B[43mnormalize\u001B[49m\u001B[43m,\u001B[49m\n\u001B[1;32m   2763\u001B[0m \u001B[43m        \u001B[49m\u001B[38;5;241;43m*\u001B[39;49m\u001B[38;5;241;43m*\u001B[39;49m\u001B[43m(\u001B[49m\u001B[43m{\u001B[49m\u001B[38;5;124;43m\"\u001B[39;49m\u001B[38;5;124;43mdata\u001B[39;49m\u001B[38;5;124;43m\"\u001B[39;49m\u001B[43m:\u001B[49m\u001B[43m \u001B[49m\u001B[43mdata\u001B[49m\u001B[43m}\u001B[49m\u001B[43m \u001B[49m\u001B[38;5;28;43;01mif\u001B[39;49;00m\u001B[43m \u001B[49m\u001B[43mdata\u001B[49m\u001B[43m \u001B[49m\u001B[38;5;129;43;01mis\u001B[39;49;00m\u001B[43m \u001B[49m\u001B[38;5;129;43;01mnot\u001B[39;49;00m\u001B[43m \u001B[49m\u001B[38;5;28;43;01mNone\u001B[39;49;00m\u001B[43m \u001B[49m\u001B[38;5;28;43;01melse\u001B[39;49;00m\u001B[43m \u001B[49m\u001B[43m{\u001B[49m\u001B[43m}\u001B[49m\u001B[43m)\u001B[49m\u001B[43m)\u001B[49m\n",
      "File \u001B[0;32m~/Library/Python/3.9/lib/python/site-packages/matplotlib/__init__.py:1412\u001B[0m, in \u001B[0;36m_preprocess_data.<locals>.inner\u001B[0;34m(ax, data, *args, **kwargs)\u001B[0m\n\u001B[1;32m   1409\u001B[0m \u001B[38;5;129m@functools\u001B[39m\u001B[38;5;241m.\u001B[39mwraps(func)\n\u001B[1;32m   1410\u001B[0m \u001B[38;5;28;01mdef\u001B[39;00m \u001B[38;5;21minner\u001B[39m(ax, \u001B[38;5;241m*\u001B[39margs, data\u001B[38;5;241m=\u001B[39m\u001B[38;5;28;01mNone\u001B[39;00m, \u001B[38;5;241m*\u001B[39m\u001B[38;5;241m*\u001B[39mkwargs):\n\u001B[1;32m   1411\u001B[0m     \u001B[38;5;28;01mif\u001B[39;00m data \u001B[38;5;129;01mis\u001B[39;00m \u001B[38;5;28;01mNone\u001B[39;00m:\n\u001B[0;32m-> 1412\u001B[0m         \u001B[38;5;28;01mreturn\u001B[39;00m \u001B[43mfunc\u001B[49m\u001B[43m(\u001B[49m\u001B[43max\u001B[49m\u001B[43m,\u001B[49m\u001B[43m \u001B[49m\u001B[38;5;241;43m*\u001B[39;49m\u001B[38;5;28;43mmap\u001B[39;49m\u001B[43m(\u001B[49m\u001B[43msanitize_sequence\u001B[49m\u001B[43m,\u001B[49m\u001B[43m \u001B[49m\u001B[43margs\u001B[49m\u001B[43m)\u001B[49m\u001B[43m,\u001B[49m\u001B[43m \u001B[49m\u001B[38;5;241;43m*\u001B[39;49m\u001B[38;5;241;43m*\u001B[39;49m\u001B[43mkwargs\u001B[49m\u001B[43m)\u001B[49m\n\u001B[1;32m   1414\u001B[0m     bound \u001B[38;5;241m=\u001B[39m new_sig\u001B[38;5;241m.\u001B[39mbind(ax, \u001B[38;5;241m*\u001B[39margs, \u001B[38;5;241m*\u001B[39m\u001B[38;5;241m*\u001B[39mkwargs)\n\u001B[1;32m   1415\u001B[0m     auto_label \u001B[38;5;241m=\u001B[39m (bound\u001B[38;5;241m.\u001B[39marguments\u001B[38;5;241m.\u001B[39mget(label_namer)\n\u001B[1;32m   1416\u001B[0m                   \u001B[38;5;129;01mor\u001B[39;00m bound\u001B[38;5;241m.\u001B[39mkwargs\u001B[38;5;241m.\u001B[39mget(label_namer))\n",
      "File \u001B[0;32m~/Library/Python/3.9/lib/python/site-packages/matplotlib/axes/_axes.py:3040\u001B[0m, in \u001B[0;36mAxes.pie\u001B[0;34m(self, x, explode, labels, colors, autopct, pctdistance, shadow, labeldistance, startangle, radius, counterclock, wedgeprops, textprops, center, frame, rotatelabels, normalize)\u001B[0m\n\u001B[1;32m   3037\u001B[0m \u001B[38;5;28mself\u001B[39m\u001B[38;5;241m.\u001B[39mset_aspect(\u001B[38;5;124m'\u001B[39m\u001B[38;5;124mequal\u001B[39m\u001B[38;5;124m'\u001B[39m)\n\u001B[1;32m   3038\u001B[0m \u001B[38;5;66;03m# The use of float32 is \"historical\", but can't be changed without\u001B[39;00m\n\u001B[1;32m   3039\u001B[0m \u001B[38;5;66;03m# regenerating the test baselines.\u001B[39;00m\n\u001B[0;32m-> 3040\u001B[0m x \u001B[38;5;241m=\u001B[39m \u001B[43mnp\u001B[49m\u001B[38;5;241;43m.\u001B[39;49m\u001B[43masarray\u001B[49m\u001B[43m(\u001B[49m\u001B[43mx\u001B[49m\u001B[43m,\u001B[49m\u001B[43m \u001B[49m\u001B[43mnp\u001B[49m\u001B[38;5;241;43m.\u001B[39;49m\u001B[43mfloat32\u001B[49m\u001B[43m)\u001B[49m\n\u001B[1;32m   3041\u001B[0m \u001B[38;5;28;01mif\u001B[39;00m x\u001B[38;5;241m.\u001B[39mndim \u001B[38;5;241m>\u001B[39m \u001B[38;5;241m1\u001B[39m:\n\u001B[1;32m   3042\u001B[0m     \u001B[38;5;28;01mraise\u001B[39;00m \u001B[38;5;167;01mValueError\u001B[39;00m(\u001B[38;5;124m\"\u001B[39m\u001B[38;5;124mx must be 1D\u001B[39m\u001B[38;5;124m\"\u001B[39m)\n",
      "\u001B[0;31mValueError\u001B[0m: could not convert string to float: 'Abdala, Soberana Plus, Soberana02'"
     ]
    },
    {
     "data": {
      "text/plain": "<Figure size 432x288 with 1 Axes>",
      "image/png": "[encoded data removed]"
     },
     "metadata": {
      "needs_background": "light"
     },
     "output_type": "display_data"
    }
   ],
   "source": [
    "import csv\n",
    "import pandas as pd\n",
    "import numpy as np\n",
    "import matplotlib.pyplot as plt\n",
    "\n",
    "f = open(\"country_vaccinations.csv\",'r',encoding='UTF-8')\n",
    "\n",
    "data = csv.reader(f,delimiter = \",\")\n",
    "#2 date\n",
    "#5\n",
    "#total vacin\n",
    "#6daily\n",
    "#7\n",
    "next(data)\n",
    "max = -1\n",
    "max_date =\"\"\n",
    "min = 9999999\n",
    "min_date = \"\"\n",
    "\n",
    "\n",
    "vaccines = {}\n",
    "\n",
    "for row in data:\n",
    "    if row[6]!='' and row[2] !='':\n",
    "        if max < float(row[6]):\n",
    "            max = float(row[6])\n",
    "            max_date = row[2]\n",
    "        if min > float(row[6]):\n",
    "            min = float(row[6])\n",
    "            min_date = row[2]\n",
    "\n",
    "        if row[-3] in vaccines:\n",
    "            vaccines[row[-3]] +=1\n",
    "        else:\n",
    "            vaccines[row[-3]] =1\n",
    "\n",
    "print(\"백신이 가장 많이 접종된 날\")\n",
    "print(max_date)\n",
    "print(\"백신이 가장 적게 접종된 날\")\n",
    "print(min_date)\n",
    "\n",
    "print(\"\")\n",
    "\n",
    "keys = list(vaccines.keys())\n",
    "keys.sort()\n",
    "vaccine_index = keys\n",
    "columns_cnt = []\n",
    "\n",
    "for i in keys:\n",
    "    columns_cnt.append(vaccines[i])\n",
    "\n",
    "array = np.array([vaccine_index,columns_cnt])\n",
    "array = array.T\n",
    "\n",
    "df = pd.DataFrame(array,columns=[\"백신 이름\",\"접종 국가 수\"])\n",
    "df\n",
    "\n",
    "\n",
    "plt.pie(array,)\n",
    "plt.show()\n",
    "\n"
   ]
  }
 ],
 "metadata": {
  "kernelspec": {
   "display_name": "Python 3",
   "language": "python",
   "name": "python3"
  },
  "language_info": {
   "codemirror_mode": {
    "name": "ipython",
    "version": 2
   },
   "file_extension": ".py",
   "mimetype": "text/x-python",
   "name": "python",
   "nbconvert_exporter": "python",
   "pygments_lexer": "ipython2",
   "version": "2.7.6"
  }
 },
 "nbformat": 4,
 "nbformat_minor": 0
}