{
 "cells": [
  {
   "cell_type": "code",
   "execution_count": 36,
   "metadata": {
    "collapsed": true,
    "pycharm": {
     "name": "#%%\n"
    }
   },
   "outputs": [
    {
     "name": "stdout",
     "output_type": "stream",
     "text": [
      "백신이 가장 많이 접종된 날\n",
      "2021-06-24\n",
      "백신이 가장 적게 접종된 날\n",
      "2022-03-29\n",
      "\n"
     ]
    },
    {
     "data": {
      "text/plain": "                                                백신 이름 접종 국가 수\n0   Abdala, Moderna, Oxford/AstraZeneca, Pfizer/Bi...     268\n1                   Abdala, Soberana Plus, Soberana02     281\n2   COVIran Barekat, Covaxin, FAKHRAVAC, Oxford/As...      54\n3   CanSino, Covaxin, Moderna, Oxford/AstraZeneca,...      93\n4   CanSino, Johnson&Johnson, Moderna, Oxford/Astr...     340\n..                                                ...     ...\n71                 Pfizer/BioNTech, Sinovac, Turkovac     434\n72                         Pfizer/BioNTech, Sputnik V      53\n73               QazVac, Sinopharm/Beijing, Sputnik V     273\n74                                  Sinopharm/Beijing       7\n75                       Sinopharm/Beijing, Sputnik V     227\n\n[76 rows x 2 columns]",
      "text/html": "<div>\n<style scoped>\n    .dataframe tbody tr th:only-of-type {\n        vertical-align: middle;\n    }\n\n    .dataframe tbody tr th {\n        vertical-align: top;\n    }\n\n    .dataframe thead th {\n        text-align: right;\n    }\n</style>\n<table border=\"1\" class=\"dataframe\">\n  <thead>\n    <tr style=\"text-align: right;\">\n      <th></th>\n      <th>백신 이름</th>\n      <th>접종 국가 수</th>\n    </tr>\n  </thead>\n  <tbody>\n    <tr>\n      <th>0</th>\n      <td>Abdala, Moderna, Oxford/AstraZeneca, Pfizer/Bi...</td>\n      <td>268</td>\n    </tr>\n    <tr>\n      <th>1</th>\n      <td>Abdala, Soberana Plus, Soberana02</td>\n      <td>281</td>\n    </tr>\n    <tr>\n      <th>2</th>\n      <td>COVIran Barekat, Covaxin, FAKHRAVAC, Oxford/As...</td>\n      <td>54</td>\n    </tr>\n    <tr>\n      <th>3</th>\n      <td>CanSino, Covaxin, Moderna, Oxford/AstraZeneca,...</td>\n      <td>93</td>\n    </tr>\n    <tr>\n      <th>4</th>\n      <td>CanSino, Johnson&amp;Johnson, Moderna, Oxford/Astr...</td>\n      <td>340</td>\n    </tr>\n    <tr>\n      <th>...</th>\n      <td>...</td>\n      <td>...</td>\n    </tr>\n    <tr>\n      <th>71</th>\n      <td>Pfizer/BioNTech, Sinovac, Turkovac</td>\n      <td>434</td>\n    </tr>\n    <tr>\n      <th>72</th>\n      <td>Pfizer/BioNTech, Sputnik V</td>\n      <td>53</td>\n    </tr>\n    <tr>\n      <th>73</th>\n      <td>QazVac, Sinopharm/Beijing, Sputnik V</td>\n      <td>273</td>\n    </tr>\n    <tr>\n      <th>74</th>\n      <td>Sinopharm/Beijing</td>\n      <td>7</td>\n    </tr>\n    <tr>\n      <th>75</th>\n      <td>Sinopharm/Beijing, Sputnik V</td>\n      <td>227</td>\n    </tr>\n  </tbody>\n</table>\n<p>76 rows × 2 columns</p>\n</div>"
     },
     "execution_count": 36,
     "metadata": {},
     "output_type": "execute_result"
    }
   ],
   "source": [
    "import csv\n",
    "import pandas as pd\n",
    "import numpy as np\n",
    "import matplotlib.pyplot as plt\n",
    "\n",
    "f = open(\"country_vaccinations.csv\",'r',encoding='UTF-8')\n",
    "\n",
    "data = csv.reader(f,delimiter = \",\")\n",
    "#2 date\n",
    "#5\n",
    "#total vacin\n",
    "#6daily\n",
    "#7\n",
    "next(data)\n",
    "max = -1\n",
    "max_date =\"\"\n",
    "min = 9999999\n",
    "min_date = \"\"\n",
    "\n",
    "\n",
    "vaccines = {}\n",
    "\n",
    "for row in data:\n",
    "    if row[6]!='' and row[2] !='':\n",
    "        if max < float(row[6]):\n",
    "            max = float(row[6])\n",
    "            max_date = row[2]\n",
    "        if min > float(row[6]):\n",
    "            min = float(row[6])\n",
    "            min_date = row[2]\n",
    "\n",
    "        if row[-3] in vaccines:\n",
    "            vaccines[row[-3]] +=1\n",
    "        else:\n",
    "            vaccines[row[-3]] =1\n",
    "\n",
    "print(\"백신이 가장 많이 접종된 날\")\n",
    "print(max_date)\n",
    "print(\"백신이 가장 적게 접종된 날\")\n",
    "print(min_date)\n",
    "\n",
    "print(\"\")\n",
    "\n",
    "keys = list(vaccines.keys())\n",
    "keys.sort()\n",
    "vaccine_index = keys\n",
    "columns_cnt = []\n",
    "\n",
    "for i in keys:\n",
    "    columns_cnt.append(vaccines[i])\n",
    "\n",
    "array = np.array([vaccine_index,columns_cnt])\n",
    "array = array.T\n",
    "\n",
    "df = pd.DataFrame(array,columns=[\"백신 이름\",\"접종 국가 수\"])\n",
    "df"
   ]
  }
 ],
 "metadata": {
  "kernelspec": {
   "display_name": "Python 3",
   "language": "python",
   "name": "python3"
  },
  "language_info": {
   "codemirror_mode": {
    "name": "ipython",
    "version": 2
   },
   "file_extension": ".py",
   "mimetype": "text/x-python",
   "name": "python",
   "nbconvert_exporter": "python",
   "pygments_lexer": "ipython2",
   "version": "2.7.6"
  }
 },
 "nbformat": 4,
 "nbformat_minor": 0
}